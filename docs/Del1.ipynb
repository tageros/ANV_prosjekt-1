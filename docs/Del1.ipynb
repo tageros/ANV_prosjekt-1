{
 "cells": [
  {
   "cell_type": "code",
   "execution_count": null,
   "metadata": {},
   "outputs": [],
   "source": [
    "import pandas as pd\n",
    "from pandasql import sqldf\n",
    "import numpy as np\n",
    "import matplotlib.pyplot as plt\n",
    "\n",
    "import os\n",
    "import sys\n",
    "sys.path.append(os.path.abspath(os.path.join('..', 'src')))\n",
    "from funksjoner import Del1\n",
    "\n",
    "filnavn = \"../data/table.csv\""
   ]
  },
  {
   "cell_type": "markdown",
   "metadata": {},
   "source": [
    "# Oppgave 2:\n"
   ]
  },
  {
   "cell_type": "code",
   "execution_count": null,
   "metadata": {},
   "outputs": [],
   "source": [
    "del1 = Del1(filnavn)\n",
    "data = del1.load_data()\n",
    "\n",
    "# Sjekke datatyper og for manglende verdier\n",
    "print(sqldf(\"SELECT * FROM data LIMIT 1\", locals()), '\\n')\n",
    "print(\"Datatyper:\\n\", data.dtypes)\n",
    "print(\"Manglende verdier:\\n\", data.isnull().sum(), \"\\n\")\n"
   ]
  },
  {
   "cell_type": "markdown",
   "metadata": {},
   "source": [
    "# Oppgave 3:\n"
   ]
  },
  {
   "cell_type": "code",
   "execution_count": null,
   "metadata": {},
   "outputs": [],
   "source": [
    "# lagre parametre for de interesserte kolonnene\n",
    "time = \"Tid(norsk normaltid)\"\n",
    "vind = \"Høyeste vindkast (1 t)\"\n",
    "temp = \"Lufttemperatur\"\n",
    "\n",
    "data = del1.clean_data()\n",
    "data = del1.convert_to_datetime(time)\n",
    "data = del1.convert_to_numerical(vind)\n",
    "data = del1.convert_to_numerical(temp)\n",
    "\n",
    "\n",
    "# Sjekke datatyper og for manglende verdier\n",
    "print(\"Datatyper:\\n\", data.dtypes)\n",
    "print(\"Manglende verdier:\\n\", data.isnull().sum(), \"\\n\")"
   ]
  },
  {
   "cell_type": "code",
   "execution_count": null,
   "metadata": {},
   "outputs": [],
   "source": [
    "def plot_data(data):\n",
    "    # Sjekke om data er tomt\n",
    "    if data.empty:\n",
    "        print(\"Ingen data å plotte.\")\n",
    "        return\n",
    "\n",
    "    # Plotte gjennomsnittlig temperatur per time\n",
    "    plt.figure(figsize=(20, 6))\n",
    "    plt.plot(data[time], data[temp], color='blue')\n",
    "    plt.title('Lufttemperatur per Time')\n",
    "    plt.xlabel('Tid (norsk normaltid)')\n",
    "    plt.ylabel('Temperatur (°C)')\n",
    "    plt.grid()\n",
    "    plt.show()\n",
    "\n",
    "    # Plotte gjennomsnittlig nedbør per time\n",
    "    plt.figure(figsize=(20, 6))\n",
    "    plt.plot(data[time], data[vind], color='orange')\n",
    "    plt.title('Høyeste vindkast per Time')\n",
    "    plt.xlabel('Tid (norsk normaltid)')\n",
    "    plt.ylabel('Vindkast (m/s)')\n",
    "    plt.grid()\n",
    "    plt.show()\n",
    "\n",
    "plot_data(data)"
   ]
  }
 ],
 "metadata": {
  "kernelspec": {
   "display_name": "venv",
   "language": "python",
   "name": "python3"
  },
  "language_info": {
   "codemirror_mode": {
    "name": "ipython",
    "version": 3
   },
   "file_extension": ".py",
   "mimetype": "text/x-python",
   "name": "python",
   "nbconvert_exporter": "python",
   "pygments_lexer": "ipython3",
   "version": "3.13.2"
  }
 },
 "nbformat": 4,
 "nbformat_minor": 2
}
