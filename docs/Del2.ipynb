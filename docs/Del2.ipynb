{
 "cells": [
  {
   "cell_type": "markdown",
   "id": "c1909234",
   "metadata": {},
   "source": [
    "# Formaterer Dataen som i Del 1"
   ]
  },
  {
   "cell_type": "code",
   "execution_count": null,
   "id": "2bd9f139",
   "metadata": {},
   "outputs": [],
   "source": [
    "\n",
    "import pandas as pd\n",
    "import numpy as np\n",
    "import matplotlib.pyplot as plt\n",
    "import seaborn as sns\n",
    "\n",
    "import sys\n",
    "import os\n",
    "sys.path.append(os.path.abspath(os.path.join('..', 'src')))\n",
    "\n",
    "from funksjoner import Del1, Del2\n",
    "\n",
    "\n",
    "filnavn = '../data/table.csv'\n",
    "time = \"Tid(norsk normaltid)\"\n",
    "vind = \"Høyeste vindkast (1 t)\"\n",
    "temp = \"Lufttemperatur\"\n",
    "\n",
    "del1 = Del1(filnavn)\n",
    "data = del1.load_data()\n",
    "data = del1.clean_data()\n",
    "data = del1.convert_to_datetime(time)\n",
    "data = del1.convert_to_numerical(vind)\n",
    "data = del1.convert_to_numerical(temp)\n",
    "\n"
   ]
  },
  {
   "cell_type": "markdown",
   "id": "95af0b1e",
   "metadata": {},
   "source": [
    "# Dataanalyse"
   ]
  },
  {
   "cell_type": "code",
   "execution_count": null,
   "id": "bf85f73e",
   "metadata": {},
   "outputs": [],
   "source": [
    "del2 = Del2(data)\n",
    "\n",
    "\n",
    "# Printe ut statistiske verdier for vindkast\n",
    "print('\\n', \"Statistiske verdier for vindkast\")\n",
    "del2.compute_mean(vind)\n",
    "del2.compute_median(vind)\n",
    "del2.compute_stdv(vind)\n",
    "print()\n",
    "print(\"Enkel analyse av vindkast:\")\n",
    "del2.simple_analysis(vind)\n",
    "\n",
    "# Printe ut statistiske verdier for temperatur\n",
    "\n",
    "print('\\n', \"Statistiske verdier for vindkast\")\n",
    "del2.compute_mean(temp)\n",
    "del2.compute_median(temp)\n",
    "del2.compute_stdv(temp)\n",
    "print()\n",
    "print(\"Enkel analyse av temperatur:\")\n",
    "del2.simple_analysis(temp)\n"
   ]
  },
  {
   "cell_type": "markdown",
   "id": "0da6fe0e",
   "metadata": {},
   "source": [
    "# Visualisering\n",
    "\n",
    "Først vanlig visualisering av dataene"
   ]
  },
  {
   "cell_type": "code",
   "execution_count": null,
   "id": "44c417d1",
   "metadata": {},
   "outputs": [],
   "source": [
    "#Plotting \"Høyeste vindkast (1 t)\" og \"Lufttemperatur\" over tid\n",
    "plt.figure(figsize=(16, 7))\n",
    "\n",
    "#Plot for \"Høyeste vindkast (1 t)\"\n",
    "plt.subplot(2, 1, 1)\n",
    "plt.plot(data[time], data[vind], label= vind, color=\"blue\")\n",
    "plt.title( \"Høyeste vindkast over tid\")\n",
    "plt.xlabel(time)\n",
    "plt.ylabel(\"Høyeste vindkast (m/s)\")\n",
    "plt.grid(True)\n",
    "plt.legend()\n",
    "\n",
    "# Plot for \"Lufttemperatur\"\n",
    "plt.subplot(2, 1, 2)\n",
    "plt.plot(data[time], data[temp], label= temp, color=\"orange\")\n",
    "plt.title(\"Lufttemperatur over tid\")\n",
    "plt.xlabel(time)\n",
    "plt.ylabel(\"Lufttemperatur (°C)\")\n",
    "plt.grid(True)\n",
    "plt.legend()\n",
    "\n",
    "plt.tight_layout()\n",
    "plt.show()"
   ]
  },
  {
   "cell_type": "markdown",
   "id": "430a318a",
   "metadata": {},
   "source": [
    "### Boxplot med bruk av seaborn"
   ]
  },
  {
   "cell_type": "code",
   "execution_count": null,
   "id": "f0f92333",
   "metadata": {},
   "outputs": [],
   "source": [
    "\n",
    "plt.figure(figsize=(10, 6))\n",
    "sns.boxplot(data=data[[vind, temp]])\n",
    "plt.title(\"Boxplot av Høyeste vindkast (1 t) og Lufttemperatur\")\n",
    "plt.ylabel(\"Verdi\")\n",
    "plt.grid(axis=\"y\")\n",
    "plt.show()"
   ]
  },
  {
   "cell_type": "markdown",
   "id": "ebfe1e64",
   "metadata": {},
   "source": [
    "### Histogram"
   ]
  },
  {
   "cell_type": "code",
   "execution_count": null,
   "id": "85f080fb",
   "metadata": {},
   "outputs": [],
   "source": [
    "vind_hist = del2.data[vind]\n",
    "temp_hist = del2.data[temp]\n",
    "\n",
    "# Plotting av histogrammene\n",
    "plt.figure(figsize=(16, 7))\n",
    "plt.subplot(1, 2, 1)\n",
    "plt.hist(vind_hist, bins=30, color=\"blue\", alpha=0.7, edgecolor=\"white\")\n",
    "plt.title(\"Histogram av Høyeste vindkast (1 t)\")\n",
    "plt.xlabel(\"Høyeste vindkast (m/s)\")\n",
    "plt.ylabel(\"Antall observasjoner\")\n",
    "plt.grid(axis=\"y\")\n",
    "\n",
    "plt.subplot(1, 2, 2)\n",
    "plt.hist(temp_hist, bins=30, color=\"orange\", alpha=0.7, edgecolor=\"white\")\n",
    "plt.title(\"Histogram av Lufttemperatur\")\n",
    "plt.xlabel(\"Lufttemperatur (°C)\")\n",
    "plt.ylabel(\"Antall observasjoner\")\n",
    "plt.grid(axis=\"y\")\n",
    "plt.tight_layout()\n",
    "plt.show()\n"
   ]
  },
  {
   "cell_type": "markdown",
   "id": "c4cbe4d3",
   "metadata": {},
   "source": [
    "### Moving Average\n",
    "\n",
    "Tar i bruk moving average for å håndtere manglende data og eventuelle uteliggere i datasettet. Samtidig vil det glatte ut kurvene."
   ]
  },
  {
   "cell_type": "code",
   "execution_count": null,
   "id": "00b24146",
   "metadata": {},
   "outputs": [],
   "source": [
    "window_size = 24\n",
    "\n",
    "mv_vind = del2.moving_average(vind, window_size)\n",
    "mv_temp = del2.moving_average(temp, window_size)\n",
    "\n",
    "# Plotting glidende gjennomsnitt\n",
    "plt.figure(figsize=(16, 7))\n",
    "plt.subplot(2, 1, 1)\n",
    "plt.plot(data[time], data[vind], label=\"Plot av Høyeste vindkast (1 t)\", color=\"grey\")\n",
    "plt.plot(data[time], mv_vind, label=\"Glidende gjennomsnitt av Høyeste vindkast (1 t)\", color=\"blue\", linewidth=2)\n",
    "plt.title(\"Glidende gjennomsnitt av Høyeste vindkast (1 t) over tid\")\n",
    "plt.xlabel(\"Tid (norsk normaltid)\")\n",
    "plt.ylabel(\"Høyeste vindkast (m/s)\")\n",
    "plt.grid(True)\n",
    "plt.legend()\n",
    "\n",
    "# Plotting glidende gjennomsnitt for lufttemperatur \n",
    "plt.subplot(2, 1, 2)\n",
    "plt.plot(data[time], data[temp], label=\"Plot av av Lufttemperatur\", color=\"grey\")\n",
    "plt.plot(data[time], mv_temp, label=\"Glidende gjennomsnitt av Lufttemperatur\", color=\"orange\", linewidth=3)\n",
    "plt.title(\"Glidende gjennomsnitt av Lufttemperatur over tid\")\n",
    "plt.xlabel(\"Tid (norsk normaltid)\")\n",
    "plt.ylabel(\"Lufttemperatur (°C)\")\n",
    "plt.grid(True)\n",
    "plt.legend()\n",
    "\n",
    "plt.tight_layout()\n",
    "plt.show()"
   ]
  },
  {
   "cell_type": "markdown",
   "id": "a4c8da4a",
   "metadata": {},
   "source": [
    "### Korrelasjon mellom vindkast og temperatur"
   ]
  },
  {
   "cell_type": "code",
   "execution_count": null,
   "id": "fb5c8890",
   "metadata": {},
   "outputs": [],
   "source": [
    "# Regne ut korrelasjon mellom vindkast og temperatur\n",
    "korr_pearson = del2.correlation_analysis(vind, temp)\n",
    "korr_spearman = del2.correlation_analysis(vind, temp, method='spearman')\n",
    "korr_kendall = del2.correlation_analysis(vind, temp, method='kendall')\n",
    "\n",
    "\n",
    "# Plotting av korrelasjonsmatrise\n",
    "plt.figure(figsize=(14, 7))\n",
    "sns.regplot(x=data[vind], y=data[temp], color=\"purple\", marker=\"o\", scatter_kws={'alpha':0.3, 'color':'grey'})\n",
    "plt.title(f\"Korrelasjon mellom {vind} og {temp}: {korr_pearson:.2f}\")\n",
    "plt.xlabel(vind)\n",
    "plt.ylabel(temp)\n",
    "plt.grid(True)\n",
    "plt.tight_layout()\n",
    "plt.show()"
   ]
  },
  {
   "cell_type": "markdown",
   "id": "bd59041c",
   "metadata": {},
   "source": [
    "### Interaktiv modell\n",
    "\n"
   ]
  },
  {
   "cell_type": "code",
   "execution_count": null,
   "id": "c47ec4b9",
   "metadata": {},
   "outputs": [],
   "source": [
    "import plotly.graph_objects as go\n",
    "\n",
    "fig_vind = go.Figure()\n",
    "\n",
    "# Legg til dataserien\n",
    "fig_vind.add_trace(go.Scatter(\n",
    "    x=data[time],\n",
    "    y=data[vind],\n",
    "    mode='lines',\n",
    "    name='Høyeste vindkast (1 t)',\n",
    "    line=dict(color='blue')\n",
    "))\n",
    "\n",
    "# Oppdater layout med range-slider\n",
    "fig_vind.update_layout(\n",
    "    title='Høyeste vindkast (1 t) over tid',\n",
    "    xaxis_title='Tid (norsk normaltid)',\n",
    "    yaxis_title='Høyeste vindkast (m/s)',\n",
    "    xaxis=dict(rangeslider=dict(visible=True)),\n",
    "    template=\"plotly_white\"\n",
    ")\n",
    "\n",
    "# Lage undermappe\n",
    "mappenavn = \"../src/plot_html\"\n",
    "if not os.path.exists(mappenavn):\n",
    "    os.makedirs(mappenavn, exist_ok=True)\n",
    "\n",
    "# Lage filnavnet for html filen med full sti\n",
    "filename_vind = \"plotly_vindkast.html\"\n",
    "html_path_vind = os.path.join(mappenavn, filename_vind)\n",
    "\n",
    "# Lager html filen\n",
    "fig_vind.write_html(html_path_vind)\n",
    "\n",
    "# Gjør samme for lufttemperatur\n",
    "fig_temp = go.Figure()\n",
    "\n",
    "# Legg til dataserien\n",
    "fig_temp.add_trace(go.Scatter(\n",
    "    x=data[time],\n",
    "    y=data[\"Lufttemperatur\"],\n",
    "    mode='lines',\n",
    "    name='Lufttemperatur',\n",
    "    line=dict(color='orange')\n",
    "))\n",
    "\n",
    "# Oppdater layout med range-slider\n",
    "fig_temp.update_layout(\n",
    "    title='Lufttemperatur over tid',\n",
    "    xaxis_title='Tid (norsk normaltid)',\n",
    "    yaxis_title='Lufttemperatur (°C)',\n",
    "    xaxis=dict(rangeslider=dict(visible=True)),\n",
    "    template=\"plotly_white\"\n",
    ")\n",
    "\n",
    "# Lagre filnavnet for html filen med full sti\n",
    "filename_temp = \"plotly_lufttemp.html\"\n",
    "html_path_temp = os.path.join(mappenavn, filename_temp)\n",
    "\n",
    "# Lager html filen\n",
    "fig_temp.write_html(html_path_temp)"
   ]
  },
  {
   "cell_type": "markdown",
   "id": "809217ab",
   "metadata": {},
   "source": [
    "### Kjør for å åpne den interaktive modellen"
   ]
  },
  {
   "cell_type": "code",
   "execution_count": null,
   "id": "7f55fd1a",
   "metadata": {},
   "outputs": [],
   "source": [
    "import webbrowser\n",
    "# Åpne HTML-filene i nettleseren\n",
    "webbrowser.open(html_path_vind)\n",
    "webbrowser.open(html_path_temp)"
   ]
  },
  {
   "cell_type": "markdown",
   "id": "06f78124",
   "metadata": {},
   "source": [
    "# Prediktiv Analyse"
   ]
  },
  {
   "cell_type": "code",
   "execution_count": null,
   "id": "0f765ae2",
   "metadata": {},
   "outputs": [],
   "source": [
    "# Trener lineær regresjon for vindkast og temperatur\n",
    "reg_vind, start_tid_vind = del2.train_linear_regression(vind)\n",
    "reg_temp, start_tid_temp = del2.train_linear_regression(temp)\n",
    "\n",
    "# Printer Parametrene\n",
    "print(\"Vindmodell:\", reg_vind.intercept_, reg_vind.coef_)\n",
    "print(\"Temperaturmodell:\", reg_temp.intercept_, reg_temp.coef_) \n"
   ]
  },
  {
   "cell_type": "code",
   "execution_count": null,
   "id": "ce3d3cc6",
   "metadata": {},
   "outputs": [],
   "source": [
    "x = del2.data[\"medgått_tid\"]\n",
    "y = [del2.data[vind], del2.data[temp]]\n",
    "\n",
    "# Predikering av verdier utover dataene\n",
    "x_extended = np.linspace(x.min(), x.max() + 2000, 1000)\n",
    "y_predicted_vind = del2.predict(reg_vind, x_extended)\n",
    "y_predicted_temp = del2.predict(reg_temp, x_extended)\n",
    "\n",
    "\n",
    "plt.figure(figsize=(16, 7))\n",
    "\n",
    "#Plot for Høyeste vindkast \n",
    "plt.subplot(2, 1, 1)\n",
    "plt.scatter(x, y[0], label=\"Observerte verdier\", alpha= 0.6, color=\"grey\")\n",
    "plt.plot(x_extended, y_predicted_vind, color=\"blue\", label=\"Regresjonslinje\", linewidth=3)\n",
    "plt.title(\"Lineær regresjon av vindkast\")\n",
    "plt.xlabel(\"Timer siden start\")\n",
    "plt.ylabel(vind)\n",
    "plt.legend()\n",
    "plt.grid(True)\n",
    "\n",
    "# Plot for Lufttemperatur\n",
    "plt.subplot(2, 1, 2)\n",
    "plt.scatter(x, y[1], label=\"Observerte verdier\", alpha=0.6, color=\"grey\")\n",
    "plt.plot(x_extended, y_predicted_temp, color=\"orange\", label=\"Regresjonslinje\", linewidth=3)\n",
    "plt.title(\"Lineær regresjon av temperatur\")\n",
    "plt.xlabel(\"Timer siden start\")\n",
    "plt.ylabel(temp)\n",
    "plt.legend()\n",
    "plt.grid(True)\n",
    "\n",
    "plt.tight_layout()\n",
    "plt.show()"
   ]
  },
  {
   "cell_type": "code",
   "execution_count": null,
   "id": "fd0b64af",
   "metadata": {},
   "outputs": [],
   "source": [
    "\n",
    "# Klargjøring av data for pivot-tabell\n",
    "data[\"Dato\"] = data[time].dt.date\n",
    "data[\"Time\"] = data[time].dt.hour\n",
    "\n",
    "# Beregn gjennomsnitt per time per dag\n",
    "pivot_temp = data.pivot_table(index=\"Time\", columns=\"Dato\", values=\"Lufttemperatur\", aggfunc=\"mean\")\n",
    "pivot_vind = data.pivot_table(index=\"Time\", columns=\"Dato\", values=\"Høyeste vindkast (1 t)\", aggfunc=\"mean\")\n",
    "\n",
    "# Plotte temperatur heatmap\n",
    "plt.figure(figsize=(16, 10))\n",
    "plt.subplot(2, 1, 1)\n",
    "sns.heatmap(pivot_temp, cmap=\"coolwarm\", annot=False, linewidths=0.5, linecolor='gray')\n",
    "plt.title(\"Heatmap: Lufttemperatur per time og dag\")\n",
    "plt.xlabel(\"Dato\")\n",
    "plt.ylabel(\"Time på døgnet\")\n",
    "plt.xticks(rotation=45)\n",
    "\n",
    "# Plot vindkast heatmap\n",
    "plt.subplot(2, 1, 2)\n",
    "sns.heatmap(pivot_vind, cmap=\"coolwarm\", annot=False, linewidths=0.5, linecolor='gray')\n",
    "plt.title(\"Heatmap: Høyeste vindkast (1 t) per time og dag\")\n",
    "plt.xlabel(\"Dato\")\n",
    "plt.ylabel(\"Time på døgnet\")\n",
    "plt.xticks(rotation=45)\n",
    "\n",
    "plt.tight_layout()\n",
    "plt.show()\n"
   ]
  },
  {
   "cell_type": "markdown",
   "id": "496f7fd4",
   "metadata": {},
   "source": [
    "## Manglende data"
   ]
  },
  {
   "cell_type": "code",
   "execution_count": null,
   "id": "967e8fc4",
   "metadata": {},
   "outputs": [],
   "source": [
    "\n",
    "missing_data = del2.create_missing_values(cols= [vind, temp])\n",
    "\n",
    "print(\"Manglende data:\", missing_data.isnull().sum())"
   ]
  },
  {
   "cell_type": "code",
   "execution_count": null,
   "id": "a4f3499d",
   "metadata": {},
   "outputs": [],
   "source": [
    "# Plotting av manglende data\n",
    "plt.figure(figsize=(16, 7)) \n",
    "plt.subplot(2, 1, 1)\n",
    "plt.plot(data[time], missing_data[vind], label=\"Høyeste vindkast (1 t)\", color=\"blue\")\n",
    "plt.title(\"Manglende data for Høyeste vindkast (1 t)\")\n",
    "plt.xlabel(\"Tid (norsk normaltid)\")\n",
    "plt.ylabel(\"Høyeste vindkast (m/s)\")\n",
    "plt.grid(True)\n",
    "plt.legend()\n",
    "\n",
    "plt.subplot(2, 1, 2)\n",
    "plt.plot(data[time], missing_data[temp], label=\"Lufttemperatur\", color=\"orange\")\n",
    "plt.title(\"Manglende data for Lufttemperatur\")\n",
    "plt.xlabel(\"Tid (norsk normaltid)\")\n",
    "plt.ylabel(\"Lufttemperatur (°C)\")\n",
    "plt.grid(True)\n",
    "plt.legend()\n",
    "plt.tight_layout()\n",
    "plt.show()"
   ]
  },
  {
   "cell_type": "markdown",
   "id": "834ff3f0",
   "metadata": {},
   "source": [
    "#### Sammenligning av moving average med og uten manglende data"
   ]
  },
  {
   "cell_type": "code",
   "execution_count": null,
   "id": "3e2d6c3c",
   "metadata": {},
   "outputs": [],
   "source": [
    "mva_vind = del2.moving_average(vind, window_size, df=missing_data)\n",
    "mva_temp = del2.moving_average(temp, window_size, df=missing_data)\n",
    "\n",
    "# Plotting av glidende gjennomsnitt for manglende data\n",
    "plt.figure(figsize=(16, 7))\n",
    "plt.subplot(2, 1, 1)\n",
    "plt.plot(data[time], mv_vind, label=\"Orginalt glidende gjennomsnitt\", color=\"grey\", alpha=0.5, linewidth=5)\n",
    "plt.plot(data[time], mva_vind, label=\"Glidende gjennomsnitt av Høyeste vindkast (1 t)\", color=\"blue\", linewidth=1)\n",
    "plt.title(\"Glidende gjennomsnitt av Høyeste vindkast (1 t) for manglende data\")\n",
    "plt.xlabel(\"Tid (norsk normaltid)\")\n",
    "plt.ylabel(\"Høyeste vindkast (m/s)\")\n",
    "plt.grid()\n",
    "plt.legend()\n",
    "\n",
    "plt.subplot(2, 1, 2)\n",
    "plt.plot(data[time], mv_temp, label=\"Gammelt glidende gjennomsnitt\", color=\"grey\", alpha=0.5, linewidth=5)\n",
    "plt.plot(data[time], mva_temp, label=\"Glidende gjennomsnitt av Lufttemperatur\", color=\"orange\", linewidth=1)\n",
    "plt.title(\"Glidende gjennomsnitt av Lufttemperatur for manglende data\")\n",
    "plt.xlabel(\"Tid (norsk normaltid)\")\n",
    "plt.ylabel(\"Lufttemperatur (°C)\")\n",
    "plt.grid()\n",
    "plt.legend()\n",
    "\n",
    "plt.tight_layout()\n",
    "plt.show()"
   ]
  }
 ],
 "metadata": {
  "kernelspec": {
   "display_name": "venv",
   "language": "python",
   "name": "python3"
  },
  "language_info": {
   "codemirror_mode": {
    "name": "ipython",
    "version": 3
   },
   "file_extension": ".py",
   "mimetype": "text/x-python",
   "name": "python",
   "nbconvert_exporter": "python",
   "pygments_lexer": "ipython3",
   "version": "3.13.2"
  }
 },
 "nbformat": 4,
 "nbformat_minor": 5
}
