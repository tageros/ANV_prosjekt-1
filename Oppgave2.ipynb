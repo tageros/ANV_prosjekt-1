{
 "cells": [
  {
   "cell_type": "code",
   "execution_count": 1,
   "metadata": {},
   "outputs": [],
   "source": [
    "import pandas as pd\n",
    "import numpy as np\n",
    "import matplotlib.pyplot as plt"
   ]
  },
  {
   "cell_type": "code",
   "execution_count": 2,
   "metadata": {},
   "outputs": [
    {
     "name": "stdout",
     "output_type": "stream",
     "text": [
      "                   Navn  Stasjon Tid(norsk normaltid) Nedbør (10 min)  \\\n",
      "0  Trondheim - Granåsen  SN68090     05.03.2025 01:00             0,1   \n",
      "1  Trondheim - Granåsen  SN68090     05.03.2025 01:10             0,3   \n",
      "2  Trondheim - Granåsen  SN68090     05.03.2025 01:20             0,2   \n",
      "3  Trondheim - Granåsen  SN68090     05.03.2025 01:30             0,1   \n",
      "4  Trondheim - Granåsen  SN68090     05.03.2025 01:40             0,4   \n",
      "\n",
      "  Lufttemperatur  \n",
      "0            3,1  \n",
      "1              3  \n",
      "2            3,2  \n",
      "3              3  \n",
      "4            2,9  \n"
     ]
    }
   ],
   "source": [
    "filnavn = 'table (1).csv' \n",
    "#data = np.genfromtxt(filnavn, delimiter=';', skip_header=1)  # Use skip_header=1 to skip the header row if there is one\n",
    "data = pd.read_csv(filnavn, delimiter=';')\n",
    "print(data.head()) #sjekker at dataen er formatert som ønsket. \n",
    " "
   ]
  },
  {
   "cell_type": "code",
   "execution_count": 3,
   "metadata": {},
   "outputs": [
    {
     "name": "stdout",
     "output_type": "stream",
     "text": [
      "Navn                    0\n",
      "Stasjon                 1\n",
      "Tid(norsk normaltid)    1\n",
      "Nedbør (10 min)         1\n",
      "Lufttemperatur          1\n",
      "dtype: int64\n",
      "Navn                            object\n",
      "Stasjon                         object\n",
      "Tid(norsk normaltid)    datetime64[ns]\n",
      "Nedbør (10 min)                 object\n",
      "Lufttemperatur                  object\n",
      "dtype: object\n"
     ]
    }
   ],
   "source": [
    "# Sjekke for manglende verdier\n",
    "if isinstance(data, pd.DataFrame):\n",
    "\tprint(data.isnull().sum())\n",
    "else:\n",
    "\tprint(\"Data is not a DataFrame\")\n",
    "\n",
    "# Konvertere 'Tid(norsk normaltid)' til datetime-format\n",
    "data['Tid(norsk normaltid)'] = pd.to_datetime(data['Tid(norsk normaltid)'], format='%d.%m.%Y %H:%M')\n",
    "\n",
    "# Sjekke datatyper\n",
    "print(data.dtypes)"
   ]
  },
  {
   "cell_type": "code",
   "execution_count": 4,
   "metadata": {},
   "outputs": [
    {
     "name": "stdout",
     "output_type": "stream",
     "text": [
      "      Tid(norsk normaltid)  Nedbør (10 min)  Lufttemperatur\n",
      "count                  288       288.000000      288.000000\n",
      "mean   2025-03-06 00:55:00         0.088194        3.889583\n",
      "min    2025-03-05 01:00:00         0.000000        0.100000\n",
      "25%    2025-03-05 12:57:30         0.000000        1.900000\n",
      "50%    2025-03-06 00:55:00         0.000000        2.900000\n",
      "75%    2025-03-06 12:52:30         0.100000        5.700000\n",
      "max    2025-03-07 00:50:00         1.100000        9.100000\n",
      "std                    NaN         0.162942        2.422347\n",
      "      Lufttemperatur  Nedbør (10 min)\n",
      "Time                                 \n",
      "0.0         3.725000         0.033333\n",
      "1.0         4.675000         0.108333\n",
      "2.0         3.775000         0.058333\n",
      "3.0         5.008333         0.000000\n",
      "4.0         5.550000         0.016667\n",
      "5.0         5.041667         0.000000\n",
      "6.0         4.591667         0.000000\n",
      "7.0         4.650000         0.016667\n",
      "8.0         4.633333         0.050000\n",
      "9.0         4.450000         0.041667\n",
      "10.0        4.241667         0.100000\n",
      "11.0        4.216667         0.075000\n",
      "12.0        4.233333         0.066667\n",
      "13.0        3.908333         0.066667\n",
      "14.0        3.608333         0.058333\n",
      "15.0        3.350000         0.058333\n",
      "16.0        3.600000         0.083333\n",
      "17.0        3.358333         0.125000\n",
      "18.0        2.758333         0.158333\n",
      "19.0        2.408333         0.233333\n",
      "20.0        1.650000         0.425000\n",
      "21.0        2.583333         0.116667\n",
      "22.0        3.800000         0.108333\n",
      "23.0        3.533333         0.116667\n"
     ]
    }
   ],
   "source": [
    "# Konvertere 'Nedbør (10 min)' og 'Lufttemperatur' til numeriske verdier\n",
    "data['Nedbør (10 min)'] = data['Nedbør (10 min)'].str.replace(',', '.').astype(float)\n",
    "data['Lufttemperatur'] = data['Lufttemperatur'].str.replace(',', '.').astype(float)\n",
    "\n",
    "# Grunnleggende statistikk for numeriske kolonner\n",
    "print(data.describe())\n",
    "\n",
    "# Gjennomsnittlig temperatur og nedbør per time\n",
    "data['Time'] = data['Tid(norsk normaltid)'].dt.hour\n",
    "hourly_avg = data.groupby('Time').agg({'Lufttemperatur': 'mean', 'Nedbør (10 min)': 'mean'})\n",
    "print(hourly_avg)"
   ]
  },
  {
   "cell_type": "code",
   "execution_count": 5,
   "metadata": {},
   "outputs": [
    {
     "ename": "ModuleNotFoundError",
     "evalue": "No module named 'seaborn'",
     "output_type": "error",
     "traceback": [
      "\u001b[31m---------------------------------------------------------------------------\u001b[39m",
      "\u001b[31mModuleNotFoundError\u001b[39m                       Traceback (most recent call last)",
      "\u001b[36mCell\u001b[39m\u001b[36m \u001b[39m\u001b[32mIn[5]\u001b[39m\u001b[32m, line 1\u001b[39m\n\u001b[32m----> \u001b[39m\u001b[32m1\u001b[39m \u001b[38;5;28;01mimport\u001b[39;00m\u001b[38;5;250m \u001b[39m\u001b[34;01mseaborn\u001b[39;00m\u001b[38;5;250m \u001b[39m\u001b[38;5;28;01mas\u001b[39;00m\u001b[38;5;250m \u001b[39m\u001b[34;01msns\u001b[39;00m\n\u001b[32m      3\u001b[39m \u001b[38;5;66;03m# Plotte gjennomsnittlig temperatur per time\u001b[39;00m\n\u001b[32m      4\u001b[39m plt.figure(figsize=(\u001b[32m10\u001b[39m, \u001b[32m6\u001b[39m))\n",
      "\u001b[31mModuleNotFoundError\u001b[39m: No module named 'seaborn'"
     ]
    }
   ],
   "source": [
    "import seaborn as sns\n",
    "\n",
    "# Plotte gjennomsnittlig temperatur per time\n",
    "plt.figure(figsize=(10, 6))\n",
    "sns.lineplot(x=hourly_avg.index, y=hourly_avg['Lufttemperatur'])\n",
    "plt.title('Gjennomsnittlig Lufttemperatur per Time')\n",
    "plt.xlabel('Time')\n",
    "plt.ylabel('Temperatur (°C)')\n",
    "plt.show()\n",
    "\n",
    "# Plotte gjennomsnittlig nedbør per time\n",
    "plt.figure(figsize=(10, 6))\n",
    "sns.lineplot(x=hourly_avg.index, y=hourly_avg['Nedbør (10 min)'])\n",
    "plt.title('Gjennomsnittlig Nedbør per Time')\n",
    "plt.xlabel('Time')\n",
    "plt.ylabel('Nedbør (mm)')\n",
    "plt.show()"
   ]
  }
 ],
 "metadata": {
  "kernelspec": {
   "display_name": "venv",
   "language": "python",
   "name": "python3"
  },
  "language_info": {
   "codemirror_mode": {
    "name": "ipython",
    "version": 3
   },
   "file_extension": ".py",
   "mimetype": "text/x-python",
   "name": "python",
   "nbconvert_exporter": "python",
   "pygments_lexer": "ipython3",
   "version": "3.13.2"
  }
 },
 "nbformat": 4,
 "nbformat_minor": 2
}
